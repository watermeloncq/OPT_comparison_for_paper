{
 "cells": [
  {
   "cell_type": "code",
   "execution_count": 1,
   "id": "33f576bf",
   "metadata": {},
   "outputs": [],
   "source": [
    "import numpy as np\n",
    "import pandas as pd\n",
    "import warnings\n",
    "\n",
    "import matplotlib.pyplot as plt\n",
    "%matplotlib inline\n",
    "\n",
    "warnings.filterwarnings(\"ignore\")\n",
    "# pd.options.display.float_format = '{:.4%}'.format"
   ]
  },
  {
   "cell_type": "code",
   "execution_count": 2,
   "id": "0caeeb04",
   "metadata": {},
   "outputs": [],
   "source": [
    "df = pd.read_csv('./data/stocks.csv',index_col='date',parse_dates=True)"
   ]
  },
  {
   "cell_type": "code",
   "execution_count": 3,
   "id": "6bccb5d7",
   "metadata": {},
   "outputs": [
    {
     "data": {
      "text/html": [
       "<div>\n",
       "<style scoped>\n",
       "    .dataframe tbody tr th:only-of-type {\n",
       "        vertical-align: middle;\n",
       "    }\n",
       "\n",
       "    .dataframe tbody tr th {\n",
       "        vertical-align: top;\n",
       "    }\n",
       "\n",
       "    .dataframe thead th {\n",
       "        text-align: right;\n",
       "    }\n",
       "</style>\n",
       "<table border=\"1\" class=\"dataframe\">\n",
       "  <thead>\n",
       "    <tr style=\"text-align: right;\">\n",
       "      <th></th>\n",
       "      <th>000338.SZ</th>\n",
       "      <th>002027.SZ</th>\n",
       "      <th>002371.SZ</th>\n",
       "      <th>600009.SH</th>\n",
       "      <th>600029.SH</th>\n",
       "      <th>600183.SH</th>\n",
       "      <th>600406.SH</th>\n",
       "      <th>600900.SH</th>\n",
       "      <th>601989.SH</th>\n",
       "      <th>601998.SH</th>\n",
       "    </tr>\n",
       "    <tr>\n",
       "      <th>date</th>\n",
       "      <th></th>\n",
       "      <th></th>\n",
       "      <th></th>\n",
       "      <th></th>\n",
       "      <th></th>\n",
       "      <th></th>\n",
       "      <th></th>\n",
       "      <th></th>\n",
       "      <th></th>\n",
       "      <th></th>\n",
       "    </tr>\n",
       "  </thead>\n",
       "  <tbody>\n",
       "    <tr>\n",
       "      <th>2010-03-16</th>\n",
       "      <td>4.6699</td>\n",
       "      <td>1.4920</td>\n",
       "      <td>12.3653</td>\n",
       "      <td>15.0836</td>\n",
       "      <td>5.9234</td>\n",
       "      <td>3.5885</td>\n",
       "      <td>3.1943</td>\n",
       "      <td>4.9168</td>\n",
       "      <td>4.0047</td>\n",
       "      <td>3.7238</td>\n",
       "    </tr>\n",
       "    <tr>\n",
       "      <th>2010-03-17</th>\n",
       "      <td>4.7768</td>\n",
       "      <td>1.5237</td>\n",
       "      <td>12.4617</td>\n",
       "      <td>15.6086</td>\n",
       "      <td>6.0735</td>\n",
       "      <td>3.7430</td>\n",
       "      <td>3.2822</td>\n",
       "      <td>4.9748</td>\n",
       "      <td>4.0699</td>\n",
       "      <td>3.8038</td>\n",
       "    </tr>\n",
       "    <tr>\n",
       "      <th>2010-03-18</th>\n",
       "      <td>4.7267</td>\n",
       "      <td>1.5395</td>\n",
       "      <td>12.3046</td>\n",
       "      <td>15.5336</td>\n",
       "      <td>6.0999</td>\n",
       "      <td>3.7499</td>\n",
       "      <td>3.2873</td>\n",
       "      <td>4.9439</td>\n",
       "      <td>4.0403</td>\n",
       "      <td>3.7825</td>\n",
       "    </tr>\n",
       "    <tr>\n",
       "      <th>2010-03-19</th>\n",
       "      <td>4.7462</td>\n",
       "      <td>1.5440</td>\n",
       "      <td>11.6570</td>\n",
       "      <td>15.7252</td>\n",
       "      <td>6.3559</td>\n",
       "      <td>3.9353</td>\n",
       "      <td>3.3255</td>\n",
       "      <td>4.9439</td>\n",
       "      <td>4.0640</td>\n",
       "      <td>3.7985</td>\n",
       "    </tr>\n",
       "    <tr>\n",
       "      <th>2010-03-22</th>\n",
       "      <td>4.8291</td>\n",
       "      <td>1.5712</td>\n",
       "      <td>11.8058</td>\n",
       "      <td>15.7919</td>\n",
       "      <td>6.3736</td>\n",
       "      <td>4.0692</td>\n",
       "      <td>3.4516</td>\n",
       "      <td>4.9323</td>\n",
       "      <td>4.1291</td>\n",
       "      <td>3.8359</td>\n",
       "    </tr>\n",
       "    <tr>\n",
       "      <th>...</th>\n",
       "      <td>...</td>\n",
       "      <td>...</td>\n",
       "      <td>...</td>\n",
       "      <td>...</td>\n",
       "      <td>...</td>\n",
       "      <td>...</td>\n",
       "      <td>...</td>\n",
       "      <td>...</td>\n",
       "      <td>...</td>\n",
       "      <td>...</td>\n",
       "    </tr>\n",
       "    <tr>\n",
       "      <th>2024-09-23</th>\n",
       "      <td>12.6100</td>\n",
       "      <td>5.5044</td>\n",
       "      <td>283.8600</td>\n",
       "      <td>31.0200</td>\n",
       "      <td>5.2800</td>\n",
       "      <td>16.7300</td>\n",
       "      <td>25.6400</td>\n",
       "      <td>28.2000</td>\n",
       "      <td>4.4900</td>\n",
       "      <td>6.0100</td>\n",
       "    </tr>\n",
       "    <tr>\n",
       "      <th>2024-09-24</th>\n",
       "      <td>12.9900</td>\n",
       "      <td>5.7797</td>\n",
       "      <td>295.0900</td>\n",
       "      <td>32.2800</td>\n",
       "      <td>5.4800</td>\n",
       "      <td>17.5600</td>\n",
       "      <td>25.6900</td>\n",
       "      <td>28.7600</td>\n",
       "      <td>4.6400</td>\n",
       "      <td>6.2900</td>\n",
       "    </tr>\n",
       "    <tr>\n",
       "      <th>2024-09-25</th>\n",
       "      <td>13.1300</td>\n",
       "      <td>5.7600</td>\n",
       "      <td>294.7000</td>\n",
       "      <td>32.5000</td>\n",
       "      <td>5.6200</td>\n",
       "      <td>17.5400</td>\n",
       "      <td>26.4700</td>\n",
       "      <td>28.9300</td>\n",
       "      <td>4.8800</td>\n",
       "      <td>6.4000</td>\n",
       "    </tr>\n",
       "    <tr>\n",
       "      <th>2024-09-26</th>\n",
       "      <td>13.8000</td>\n",
       "      <td>6.2700</td>\n",
       "      <td>303.0000</td>\n",
       "      <td>33.8700</td>\n",
       "      <td>5.8500</td>\n",
       "      <td>18.0700</td>\n",
       "      <td>26.0500</td>\n",
       "      <td>29.1300</td>\n",
       "      <td>4.9500</td>\n",
       "      <td>6.7100</td>\n",
       "    </tr>\n",
       "    <tr>\n",
       "      <th>2024-09-27</th>\n",
       "      <td>14.5600</td>\n",
       "      <td>6.5200</td>\n",
       "      <td>333.3000</td>\n",
       "      <td>35.7000</td>\n",
       "      <td>6.1500</td>\n",
       "      <td>19.1900</td>\n",
       "      <td>26.1200</td>\n",
       "      <td>28.9900</td>\n",
       "      <td>5.1000</td>\n",
       "      <td>6.6500</td>\n",
       "    </tr>\n",
       "  </tbody>\n",
       "</table>\n",
       "<p>3535 rows × 10 columns</p>\n",
       "</div>"
      ],
      "text/plain": [
       "            000338.SZ  002027.SZ  002371.SZ  600009.SH  600029.SH  600183.SH  \\\n",
       "date                                                                           \n",
       "2010-03-16     4.6699     1.4920    12.3653    15.0836     5.9234     3.5885   \n",
       "2010-03-17     4.7768     1.5237    12.4617    15.6086     6.0735     3.7430   \n",
       "2010-03-18     4.7267     1.5395    12.3046    15.5336     6.0999     3.7499   \n",
       "2010-03-19     4.7462     1.5440    11.6570    15.7252     6.3559     3.9353   \n",
       "2010-03-22     4.8291     1.5712    11.8058    15.7919     6.3736     4.0692   \n",
       "...               ...        ...        ...        ...        ...        ...   \n",
       "2024-09-23    12.6100     5.5044   283.8600    31.0200     5.2800    16.7300   \n",
       "2024-09-24    12.9900     5.7797   295.0900    32.2800     5.4800    17.5600   \n",
       "2024-09-25    13.1300     5.7600   294.7000    32.5000     5.6200    17.5400   \n",
       "2024-09-26    13.8000     6.2700   303.0000    33.8700     5.8500    18.0700   \n",
       "2024-09-27    14.5600     6.5200   333.3000    35.7000     6.1500    19.1900   \n",
       "\n",
       "            600406.SH  600900.SH  601989.SH  601998.SH  \n",
       "date                                                    \n",
       "2010-03-16     3.1943     4.9168     4.0047     3.7238  \n",
       "2010-03-17     3.2822     4.9748     4.0699     3.8038  \n",
       "2010-03-18     3.2873     4.9439     4.0403     3.7825  \n",
       "2010-03-19     3.3255     4.9439     4.0640     3.7985  \n",
       "2010-03-22     3.4516     4.9323     4.1291     3.8359  \n",
       "...               ...        ...        ...        ...  \n",
       "2024-09-23    25.6400    28.2000     4.4900     6.0100  \n",
       "2024-09-24    25.6900    28.7600     4.6400     6.2900  \n",
       "2024-09-25    26.4700    28.9300     4.8800     6.4000  \n",
       "2024-09-26    26.0500    29.1300     4.9500     6.7100  \n",
       "2024-09-27    26.1200    28.9900     5.1000     6.6500  \n",
       "\n",
       "[3535 rows x 10 columns]"
      ]
     },
     "execution_count": 3,
     "metadata": {},
     "output_type": "execute_result"
    }
   ],
   "source": [
    "df"
   ]
  },
  {
   "cell_type": "markdown",
   "id": "dcde50ce",
   "metadata": {},
   "source": [
    "# 初始化相关变量"
   ]
  },
  {
   "cell_type": "code",
   "execution_count": 4,
   "id": "cad916f0",
   "metadata": {},
   "outputs": [],
   "source": [
    "# 设置数据的计算窗口（工作日数量），每年工作日数量：252\n",
    "windows = 252\n",
    "# 设置回测窗口数量\n",
    "backtest_T = 128\n",
    "\n",
    "# 设置保存权值的容器\n",
    "opt_W = pd.DataFrame(data=None)\n",
    "\n",
    "# 单个资产交易成本率\n",
    "cost = 0.0025"
   ]
  },
  {
   "cell_type": "markdown",
   "id": "3699ed8c",
   "metadata": {},
   "source": [
    "# 各资产收益率矩阵计算"
   ]
  },
  {
   "cell_type": "code",
   "execution_count": 5,
   "id": "6569389a",
   "metadata": {},
   "outputs": [],
   "source": [
    "data = np.log(df/df.shift()) # 计算收益率\n",
    "data.dropna(inplace=True)"
   ]
  },
  {
   "cell_type": "code",
   "execution_count": 6,
   "id": "f88e6133",
   "metadata": {},
   "outputs": [
    {
     "data": {
      "text/plain": [
       "Timestamp('2023-08-07 00:00:00')"
      ]
     },
     "execution_count": 6,
     "metadata": {},
     "output_type": "execute_result"
    }
   ],
   "source": [
    "idx = data.index.get_loc('2023-08-07') #根据DRL回测的结果，确定要回测的数据起始日期索引\n",
    "data.index[idx] "
   ]
  },
  {
   "cell_type": "code",
   "execution_count": 7,
   "id": "2ff7315b",
   "metadata": {},
   "outputs": [],
   "source": [
    "data_backtest = data[idx:idx+backtest_T] #确定收益率的回测区间"
   ]
  },
  {
   "cell_type": "markdown",
   "id": "5ef8414a",
   "metadata": {},
   "source": [
    "# 计算通过CVaR优化后的权值"
   ]
  },
  {
   "cell_type": "code",
   "execution_count": 8,
   "id": "ac1d9e53",
   "metadata": {},
   "outputs": [],
   "source": [
    "import riskfolio as rp\n",
    "\n",
    "for i in range(backtest_T-1):  # 最后一天不作交易，所以少一天，则预测的天数为：backtest_T - 1 \n",
    "    Y = data[idx-windows+i:idx+i]\n",
    "    \n",
    "    # Building the portfolio object\n",
    "    port = rp.Portfolio(returns=Y)\n",
    "\n",
    "    # Calculating optimal portfolio\n",
    "\n",
    "    # Select method and estimate input parameters:\n",
    "\n",
    "    method_mu='hist' # Method to estimate expected returns based on historical data.\n",
    "    method_cov='hist' # Method to estimate covariance matrix based on historical data.\n",
    "\n",
    "    port.assets_stats(method_mu=method_mu, method_cov=method_cov)\n",
    "\n",
    "    # Estimate optimal portfolio:\n",
    "\n",
    "    model='Classic' # Could be Classic (historical), BL (Black Litterman) or FM (Factor Model)\n",
    "    rm = 'CVaR' # Risk measure used,'MV','CVaR', 'EVaR' etc.\n",
    "    obj = 'MinRisk' # Objective function, could be MinRisk, MaxRet, Utility or Sharpe\n",
    "    hist = True # Use historical scenarios for risk measures that depend on scenarios\n",
    "    rf = 0 # Risk free rate\n",
    "    l = 0 # Risk aversion factor, only useful when obj is 'Utility'\n",
    "\n",
    "    w_cvar = port.optimization(model=model, rm=rm, obj=obj, rf=rf, l=l, hist=hist)    \n",
    "    \n",
    "    opt_W = pd.concat([opt_W,w_cvar.T],axis=0)"
   ]
  },
  {
   "cell_type": "code",
   "execution_count": 9,
   "id": "de3ef4e0",
   "metadata": {},
   "outputs": [],
   "source": [
    "opt_W.columns = opt_W.columns.map(lambda x: 'w_'+ x)\n",
    "opt_W.index = data[idx+1:idx+1+backtest_T-1].index # 计算出来的权重滞后一天，所以要从idx+1开始"
   ]
  },
  {
   "cell_type": "markdown",
   "id": "5bd619b0",
   "metadata": {},
   "source": [
    "# 交易成本计算"
   ]
  },
  {
   "cell_type": "code",
   "execution_count": 10,
   "id": "a744736d",
   "metadata": {},
   "outputs": [
    {
     "data": {
      "text/plain": [
       "Timestamp('2023-08-07 00:00:00')"
      ]
     },
     "execution_count": 10,
     "metadata": {},
     "output_type": "execute_result"
    }
   ],
   "source": [
    "# 计算相对价格向量Yt\n",
    "Y_t = df / df.shift()\n",
    "Y_t.dropna(inplace=True)\n",
    "Y_t.index[idx]"
   ]
  },
  {
   "cell_type": "code",
   "execution_count": 11,
   "id": "5c8b2015",
   "metadata": {},
   "outputs": [],
   "source": [
    "Y_t = Y_t[idx+1:idx+1+backtest_T]\n",
    "Y_t['CASH'] = 1 #增加现金的相对价格向量"
   ]
  },
  {
   "cell_type": "markdown",
   "id": "4b6062ec",
   "metadata": {},
   "source": [
    "计算t-1时刻的权重矩阵"
   ]
  },
  {
   "cell_type": "code",
   "execution_count": 12,
   "id": "599c80a0",
   "metadata": {},
   "outputs": [],
   "source": [
    "# 为优化后的opt_W插入初始权重值0，变为W_0,即论文中的Wt-1\n",
    "inserted_zero = pd.DataFrame(np.zeros(opt_W.shape[1]))\n",
    "inserted_zero = inserted_zero.T\n",
    "inserted_zero.columns = opt_W.columns\n",
    "\n",
    "W_0 = pd.concat([inserted_zero, opt_W],axis=0)"
   ]
  },
  {
   "cell_type": "code",
   "execution_count": 13,
   "id": "6dddddb7",
   "metadata": {},
   "outputs": [],
   "source": [
    "# 给W_0增加无风险资产的权重值，即现金权值\n",
    "W_0.index = data[idx:idx+backtest_T].index\n",
    "W_0['w_CASH'] = 0\n",
    "W_0['w_CASH'][0] = 1 # 现金只在最初时持有"
   ]
  },
  {
   "cell_type": "markdown",
   "id": "8977f568",
   "metadata": {},
   "source": [
    "计算权值W_，即论文中的W'"
   ]
  },
  {
   "cell_type": "code",
   "execution_count": 14,
   "id": "f68e8a1f",
   "metadata": {},
   "outputs": [],
   "source": [
    "# 计算随着价格变动后的资产权值 W_ (即论文公式中的W')\n",
    "W_ = Y_t.values * W_0.values / (Y_t.values * W_0.values).sum(1)[:,None]"
   ]
  },
  {
   "cell_type": "markdown",
   "id": "d2901c30",
   "metadata": {},
   "source": [
    "计算t时刻的权重矩阵"
   ]
  },
  {
   "cell_type": "code",
   "execution_count": 15,
   "id": "4f67308c",
   "metadata": {},
   "outputs": [],
   "source": [
    "# 因为回测的最后一天不交易，所以把W_中最后一行的权重值插到opt_W尾部，形成t时刻的权重矩阵W_1，即论文中的Wt\n",
    "inserted_lastweight = W_[-1,:]\n",
    "inserted_lastweight = pd.DataFrame(inserted_lastweight)\n",
    "inserted_lastweight = inserted_lastweight.T\n",
    "inserted_lastweight.columns = W_0.columns "
   ]
  },
  {
   "cell_type": "code",
   "execution_count": 16,
   "id": "76cd341f",
   "metadata": {},
   "outputs": [],
   "source": [
    "W_1 = pd.concat([opt_W,inserted_lastweight],axis=0)\n",
    "W_1.index = data[idx+1:idx+1+backtest_T].index"
   ]
  },
  {
   "cell_type": "markdown",
   "id": "a4be9ef3",
   "metadata": {},
   "source": [
    "计算投资组合的交易成本率"
   ]
  },
  {
   "cell_type": "code",
   "execution_count": 17,
   "id": "ee31f4ae",
   "metadata": {},
   "outputs": [],
   "source": [
    "C_t = cost * (np.abs(W_ - W_1).sum(1))"
   ]
  },
  {
   "cell_type": "code",
   "execution_count": 18,
   "id": "4b1a39f1",
   "metadata": {},
   "outputs": [
    {
     "data": {
      "text/plain": [
       "<Axes: xlabel='date'>"
      ]
     },
     "execution_count": 18,
     "metadata": {},
     "output_type": "execute_result"
    },
    {
     "data": {
      "image/png": "[encoded data removed]",
      "text/plain": [
       "<Figure size 640x480 with 1 Axes>"
      ]
     },
     "metadata": {},
     "output_type": "display_data"
    }
   ],
   "source": [
    "C_t.plot()"
   ]
  },
  {
   "cell_type": "code",
   "execution_count": 19,
   "id": "abde702e",
   "metadata": {},
   "outputs": [],
   "source": [
    "C_t.to_csv('./data/temp/forStocks/costs/Costs_CVaR_MinRisk.csv')"
   ]
  },
  {
   "cell_type": "markdown",
   "id": "7fe70cf6",
   "metadata": {},
   "source": [
    "# 投资组合价值计算"
   ]
  },
  {
   "cell_type": "code",
   "execution_count": 20,
   "id": "dc419f7f",
   "metadata": {},
   "outputs": [],
   "source": [
    "# 计算投资组合的收益率R_t\n",
    "R_t = np.log(1-C_t.values) + (np.log(Y_t.values) * W_0.values).sum(1)"
   ]
  },
  {
   "cell_type": "code",
   "execution_count": 21,
   "id": "b5a54a6f",
   "metadata": {},
   "outputs": [],
   "source": [
    "R_t = pd.DataFrame(R_t)\n",
    "R_t.index = Y_t.index"
   ]
  },
  {
   "cell_type": "code",
   "execution_count": 22,
   "id": "4c0f2c52",
   "metadata": {},
   "outputs": [],
   "source": [
    "# R_t.plot()"
   ]
  },
  {
   "cell_type": "code",
   "execution_count": 23,
   "id": "2933620f",
   "metadata": {},
   "outputs": [],
   "source": [
    "# 把投资组合收益率转为资产价格\n",
    "price = np.exp(R_t.cumsum())\n",
    "price.rename(columns={0:'CVaR_MinRisk'},inplace=True)"
   ]
  },
  {
   "cell_type": "code",
   "execution_count": 24,
   "id": "ac9fa0d0",
   "metadata": {},
   "outputs": [
    {
     "data": {
      "text/plain": [
       "<Axes: xlabel='date'>"
      ]
     },
     "execution_count": 24,
     "metadata": {},
     "output_type": "execute_result"
    },
    {
     "data": {
      "image/png": "[encoded data removed]",
      "text/plain": [
       "<Figure size 640x480 with 1 Axes>"
      ]
     },
     "metadata": {},
     "output_type": "display_data"
    }
   ],
   "source": [
    "price.plot()"
   ]
  },
  {
   "cell_type": "code",
   "execution_count": 25,
   "id": "94f928c4",
   "metadata": {},
   "outputs": [],
   "source": [
    "price.to_csv('./data/temp/forStocks/values/Values_CVaR_MinRisk.csv')"
   ]
  },
  {
   "cell_type": "markdown",
   "id": "e3005b83",
   "metadata": {},
   "source": [
    "# 其它"
   ]
  },
  {
   "cell_type": "code",
   "execution_count": 26,
   "id": "0bcf2581",
   "metadata": {},
   "outputs": [],
   "source": [
    "W_0.sort_index(axis=1,inplace=True)"
   ]
  },
  {
   "cell_type": "code",
   "execution_count": 27,
   "id": "9eb7950a",
   "metadata": {},
   "outputs": [
    {
     "data": {
      "text/plain": [
       "<Axes: xlabel='date'>"
      ]
     },
     "execution_count": 27,
     "metadata": {},
     "output_type": "execute_result"
    },
    {
     "data": {
      "image/png": "[encoded data removed]",
      "text/plain": [
       "<Figure size 640x480 with 1 Axes>"
      ]
     },
     "metadata": {},
     "output_type": "display_data"
    }
   ],
   "source": [
    "W_0.plot()"
   ]
  },
  {
   "cell_type": "code",
   "execution_count": 28,
   "id": "2f7417d7",
   "metadata": {},
   "outputs": [],
   "source": [
    "W_0.to_csv('./data/temp/forStocks/weights/Weights_CVaR_MinRisk.csv') "
   ]
  },
  {
   "cell_type": "code",
   "execution_count": 29,
   "id": "f3e02edf",
   "metadata": {},
   "outputs": [],
   "source": [
    "from util import sharpe, sortino, MDD, MDD1, calmar, other_metrics"
   ]
  },
  {
   "cell_type": "code",
   "execution_count": 30,
   "id": "ba4281a8",
   "metadata": {},
   "outputs": [
    {
     "name": "stdout",
     "output_type": "stream",
     "text": [
      "每日平均收益率(log return)： 0.0003242656254730854\n"
     ]
    }
   ],
   "source": [
    "print(\"每日平均收益率(log return)：\",np.mean(R_t.values))"
   ]
  },
  {
   "cell_type": "code",
   "execution_count": 31,
   "id": "4667dd49",
   "metadata": {},
   "outputs": [
    {
     "name": "stdout",
     "output_type": "stream",
     "text": [
      "年化sharpe比率: 0.7073852494743017\n"
     ]
    }
   ],
   "source": [
    "print('年化sharpe比率:',sharpe(R_t.values)) "
   ]
  },
  {
   "cell_type": "code",
   "execution_count": 32,
   "id": "8b227c74",
   "metadata": {},
   "outputs": [
    {
     "name": "stdout",
     "output_type": "stream",
     "text": [
      "年化sortino比率： 1.131201649836782\n"
     ]
    }
   ],
   "source": [
    "print('年化sortino比率：',sortino(R_t.values))"
   ]
  },
  {
   "cell_type": "code",
   "execution_count": 33,
   "id": "f1587a9c",
   "metadata": {},
   "outputs": [
    {
     "name": "stdout",
     "output_type": "stream",
     "text": [
      "最大回撤 0.06266619792053119\n"
     ]
    }
   ],
   "source": [
    "print('最大回撤',MDD1(price['CVaR_MinRisk']))"
   ]
  },
  {
   "cell_type": "code",
   "execution_count": 34,
   "id": "dcff3959",
   "metadata": {},
   "outputs": [
    {
     "name": "stdout",
     "output_type": "stream",
     "text": [
      "Calmar比率: 1.3039715242153762\n"
     ]
    }
   ],
   "source": [
    "print('Calmar比率:',calmar(R_t.values))"
   ]
  },
  {
   "cell_type": "code",
   "execution_count": 35,
   "id": "583f2f11",
   "metadata": {},
   "outputs": [
    {
     "name": "stdout",
     "output_type": "stream",
     "text": [
      "平均年化收益率（annual average return）： 0.08171493761921753\n",
      "年化波动率（annual variance）： 0.1155152934566744\n",
      "投资胜率（percentage of positive trade returns）： 0.515625\n",
      "平均益损比（ratio between positive and negative returns）: 1.0566467794741392\n"
     ]
    }
   ],
   "source": [
    "other_metrics(R_t.values)"
   ]
  }
 ],
 "metadata": {
  "kernelspec": {
   "display_name": "Python 3 (ipykernel)",
   "language": "python",
   "name": "python3"
  },
  "language_info": {
   "codemirror_mode": {
    "name": "ipython",
    "version": 3
   },
   "file_extension": ".py",
   "mimetype": "text/x-python",
   "name": "python",
   "nbconvert_exporter": "python",
   "pygments_lexer": "ipython3",
   "version": "3.9.21"
  }
 },
 "nbformat": 4,
 "nbformat_minor": 5
}
